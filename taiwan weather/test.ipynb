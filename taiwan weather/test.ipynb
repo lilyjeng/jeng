{
 "cells": [
  {
   "cell_type": "code",
   "execution_count": 1,
   "metadata": {},
   "outputs": [],
   "source": [
    "import requests\n",
    "def download_data()->dict:\n",
    "    url = 'https://opendata.cwb.gov.tw/fileapi/v1/opendataapi/F-C0032-001?Authorization=rdec-key-123-45678-011121314&format=JSON'\n",
    "\n",
    "    response = requests.get(url)\n",
    "    if response.status_code == 200:\n",
    "        print(\"下載成功\")\n",
    "    return response.json()\n"
   ]
  },
  {
   "cell_type": "code",
   "execution_count": 2,
   "metadata": {},
   "outputs": [],
   "source": [
    "def jsonDict_csvList(json)->list[dict]:\n",
    "    '''\n",
    "    - 傳入josn的資料結構\n",
    "    - 取出需要的資料\n",
    "    - 組合成list[dict]\n",
    "    '''\n",
    "    location = json['cwbopendata']['dataset']['location']\n",
    "    weather_list = []\n",
    "    for item in location:\n",
    "        city_item = {}\n",
    "        city_item['城市'] = item['locationName']\n",
    "        city_item['啟始時間'] = item['weatherElement'][1]['time'][0]['startTime']\n",
    "        city_item['結束時間'] = item['weatherElement'][1]['time'][0]['endTime']\n",
    "        city_item['最高溫度'] = float(item['weatherElement'][1]['time'][0]['parameter']['parameterName'])\n",
    "        city_item['最低溫度'] = float(item['weatherElement'][2]['time'][0]['parameter']['parameterName'])\n",
    "        city_item['感覺'] = item['weatherElement'][3]['time'][0]['parameter']['parameterName']\n",
    "        weather_list.append(city_item)\n",
    "    return weather_list"
   ]
  },
  {
   "cell_type": "code",
   "execution_count": 3,
   "metadata": {},
   "outputs": [
    {
     "name": "stdout",
     "output_type": "stream",
     "text": [
      "下載成功\n"
     ]
    },
    {
     "data": {
      "text/plain": [
       "[{'城市': '臺北市',\n",
       "  '啟始時間': '2023-08-12T12:00:00+08:00',\n",
       "  '結束時間': '2023-08-12T18:00:00+08:00',\n",
       "  '最高溫度': 34.0,\n",
       "  '最低溫度': 30.0,\n",
       "  '感覺': '悶熱至易中暑'},\n",
       " {'城市': '新北市',\n",
       "  '啟始時間': '2023-08-12T12:00:00+08:00',\n",
       "  '結束時間': '2023-08-12T18:00:00+08:00',\n",
       "  '最高溫度': 33.0,\n",
       "  '最低溫度': 30.0,\n",
       "  '感覺': '悶熱'},\n",
       " {'城市': '桃園市',\n",
       "  '啟始時間': '2023-08-12T12:00:00+08:00',\n",
       "  '結束時間': '2023-08-12T18:00:00+08:00',\n",
       "  '最高溫度': 33.0,\n",
       "  '最低溫度': 30.0,\n",
       "  '感覺': '悶熱'},\n",
       " {'城市': '臺中市',\n",
       "  '啟始時間': '2023-08-12T12:00:00+08:00',\n",
       "  '結束時間': '2023-08-12T18:00:00+08:00',\n",
       "  '最高溫度': 33.0,\n",
       "  '最低溫度': 31.0,\n",
       "  '感覺': '悶熱'},\n",
       " {'城市': '臺南市',\n",
       "  '啟始時間': '2023-08-12T12:00:00+08:00',\n",
       "  '結束時間': '2023-08-12T18:00:00+08:00',\n",
       "  '最高溫度': 32.0,\n",
       "  '最低溫度': 30.0,\n",
       "  '感覺': '悶熱'},\n",
       " {'城市': '高雄市',\n",
       "  '啟始時間': '2023-08-12T12:00:00+08:00',\n",
       "  '結束時間': '2023-08-12T18:00:00+08:00',\n",
       "  '最高溫度': 33.0,\n",
       "  '最低溫度': 30.0,\n",
       "  '感覺': '悶熱至易中暑'},\n",
       " {'城市': '基隆市',\n",
       "  '啟始時間': '2023-08-12T12:00:00+08:00',\n",
       "  '結束時間': '2023-08-12T18:00:00+08:00',\n",
       "  '最高溫度': 32.0,\n",
       "  '最低溫度': 30.0,\n",
       "  '感覺': '悶熱'},\n",
       " {'城市': '新竹縣',\n",
       "  '啟始時間': '2023-08-12T12:00:00+08:00',\n",
       "  '結束時間': '2023-08-12T18:00:00+08:00',\n",
       "  '最高溫度': 32.0,\n",
       "  '最低溫度': 30.0,\n",
       "  '感覺': '悶熱'},\n",
       " {'城市': '新竹市',\n",
       "  '啟始時間': '2023-08-12T12:00:00+08:00',\n",
       "  '結束時間': '2023-08-12T18:00:00+08:00',\n",
       "  '最高溫度': 31.0,\n",
       "  '最低溫度': 30.0,\n",
       "  '感覺': '悶熱'},\n",
       " {'城市': '苗栗縣',\n",
       "  '啟始時間': '2023-08-12T12:00:00+08:00',\n",
       "  '結束時間': '2023-08-12T18:00:00+08:00',\n",
       "  '最高溫度': 32.0,\n",
       "  '最低溫度': 30.0,\n",
       "  '感覺': '悶熱'},\n",
       " {'城市': '彰化縣',\n",
       "  '啟始時間': '2023-08-12T12:00:00+08:00',\n",
       "  '結束時間': '2023-08-12T18:00:00+08:00',\n",
       "  '最高溫度': 33.0,\n",
       "  '最低溫度': 30.0,\n",
       "  '感覺': '悶熱至易中暑'},\n",
       " {'城市': '南投縣',\n",
       "  '啟始時間': '2023-08-12T12:00:00+08:00',\n",
       "  '結束時間': '2023-08-12T18:00:00+08:00',\n",
       "  '最高溫度': 33.0,\n",
       "  '最低溫度': 30.0,\n",
       "  '感覺': '悶熱'},\n",
       " {'城市': '雲林縣',\n",
       "  '啟始時間': '2023-08-12T12:00:00+08:00',\n",
       "  '結束時間': '2023-08-12T18:00:00+08:00',\n",
       "  '最高溫度': 33.0,\n",
       "  '最低溫度': 29.0,\n",
       "  '感覺': '悶熱'},\n",
       " {'城市': '嘉義縣',\n",
       "  '啟始時間': '2023-08-12T12:00:00+08:00',\n",
       "  '結束時間': '2023-08-12T18:00:00+08:00',\n",
       "  '最高溫度': 33.0,\n",
       "  '最低溫度': 30.0,\n",
       "  '感覺': '悶熱至易中暑'},\n",
       " {'城市': '嘉義市',\n",
       "  '啟始時間': '2023-08-12T12:00:00+08:00',\n",
       "  '結束時間': '2023-08-12T18:00:00+08:00',\n",
       "  '最高溫度': 33.0,\n",
       "  '最低溫度': 29.0,\n",
       "  '感覺': '悶熱至易中暑'},\n",
       " {'城市': '屏東縣',\n",
       "  '啟始時間': '2023-08-12T12:00:00+08:00',\n",
       "  '結束時間': '2023-08-12T18:00:00+08:00',\n",
       "  '最高溫度': 33.0,\n",
       "  '最低溫度': 29.0,\n",
       "  '感覺': '悶熱至易中暑'},\n",
       " {'城市': '宜蘭縣',\n",
       "  '啟始時間': '2023-08-12T12:00:00+08:00',\n",
       "  '結束時間': '2023-08-12T18:00:00+08:00',\n",
       "  '最高溫度': 33.0,\n",
       "  '最低溫度': 30.0,\n",
       "  '感覺': '悶熱至易中暑'},\n",
       " {'城市': '花蓮縣',\n",
       "  '啟始時間': '2023-08-12T12:00:00+08:00',\n",
       "  '結束時間': '2023-08-12T18:00:00+08:00',\n",
       "  '最高溫度': 31.0,\n",
       "  '最低溫度': 29.0,\n",
       "  '感覺': '悶熱'},\n",
       " {'城市': '臺東縣',\n",
       "  '啟始時間': '2023-08-12T12:00:00+08:00',\n",
       "  '結束時間': '2023-08-12T18:00:00+08:00',\n",
       "  '最高溫度': 32.0,\n",
       "  '最低溫度': 29.0,\n",
       "  '感覺': '悶熱'},\n",
       " {'城市': '澎湖縣',\n",
       "  '啟始時間': '2023-08-12T12:00:00+08:00',\n",
       "  '結束時間': '2023-08-12T18:00:00+08:00',\n",
       "  '最高溫度': 31.0,\n",
       "  '最低溫度': 29.0,\n",
       "  '感覺': '悶熱'},\n",
       " {'城市': '金門縣',\n",
       "  '啟始時間': '2023-08-12T12:00:00+08:00',\n",
       "  '結束時間': '2023-08-12T18:00:00+08:00',\n",
       "  '最高溫度': 31.0,\n",
       "  '最低溫度': 28.0,\n",
       "  '感覺': '悶熱'},\n",
       " {'城市': '連江縣',\n",
       "  '啟始時間': '2023-08-12T12:00:00+08:00',\n",
       "  '結束時間': '2023-08-12T18:00:00+08:00',\n",
       "  '最高溫度': 31.0,\n",
       "  '最低溫度': 28.0,\n",
       "  '感覺': '悶熱'}]"
      ]
     },
     "execution_count": 3,
     "metadata": {},
     "output_type": "execute_result"
    }
   ],
   "source": [
    "json_data = download_data()\n",
    "csv_list = jsonDict_csvList(json_data)\n",
    "csv_list"
   ]
  },
  {
   "cell_type": "code",
   "execution_count": 4,
   "metadata": {},
   "outputs": [],
   "source": [
    "import csv\n",
    "def save_csv(data:list[dict],fileName) -> None:\n",
    "    '''\n",
    "    - 將list[dict]儲存\n",
    "    - 參數fileName要儲存的檔案名\n",
    "    '''\n",
    "    with open(fileName,mode='w',encoding='utf-8',newline='') as file:\n",
    "        fieldnames = ['城市', '啟始時間','結束時間','最高溫度','最低溫度','感覺']\n",
    "        writer = csv.DictWriter(file,fieldnames=fieldnames)\n",
    "        writer.writeheader()\n",
    "        writer.writerows(data)"
   ]
  },
  {
   "cell_type": "code",
   "execution_count": 7,
   "metadata": {},
   "outputs": [
    {
     "name": "stdout",
     "output_type": "stream",
     "text": [
      "下載成功\n"
     ]
    }
   ],
   "source": [
    "json_data = download_data() #下載資料\n",
    "csv_list = jsonDict_csvList(json_data) #解析json的資料成為csv的結構\n",
    "save_csv(csv_list,\"今天天氣.csv\") #儲存資料"
   ]
  },
  {
   "cell_type": "code",
   "execution_count": 13,
   "metadata": {},
   "outputs": [],
   "source": [
    "from datetime import datetime\n",
    "import pytz\n",
    "def get_csvName()->str:\n",
    "    '''\n",
    "    -取得台灣目前year-month-day.csv\n",
    "    '''\n",
    "    taiwan_timezone = pytz.timezone(\"Asia/Taipei\")\n",
    "\n",
    "    current_date = datetime.now(taiwan_timezone)\n",
    "    fileName = f\"{current_date.year}-{current_date.month}-{current_date.day}.csv\"\n",
    "    return fileName                                                     "
   ]
  },
  {
   "cell_type": "code",
   "execution_count": 14,
   "metadata": {},
   "outputs": [
    {
     "data": {
      "text/plain": [
       "'2023-8-12.csv'"
      ]
     },
     "execution_count": 14,
     "metadata": {},
     "output_type": "execute_result"
    }
   ],
   "source": [
    "csvFileName = get_csvName()\n",
    "csvFileName"
   ]
  },
  {
   "cell_type": "code",
   "execution_count": 15,
   "metadata": {},
   "outputs": [
    {
     "data": {
      "text/plain": [
       "'/workspaces/jeng/taiwan weather/data/2023-8-12.csv'"
      ]
     },
     "execution_count": 15,
     "metadata": {},
     "output_type": "execute_result"
    }
   ],
   "source": [
    "import os\n",
    "current_cwd = os.path.abspath(os.getcwd())\n",
    "abs_file_path = os.path.join(current_cwd,'data',csvFileName)\n",
    "abs_file_path"
   ]
  }
 ],
 "metadata": {
  "kernelspec": {
   "display_name": "Python 3",
   "language": "python",
   "name": "python3"
  },
  "language_info": {
   "codemirror_mode": {
    "name": "ipython",
    "version": 3
   },
   "file_extension": ".py",
   "mimetype": "text/x-python",
   "name": "python",
   "nbconvert_exporter": "python",
   "pygments_lexer": "ipython3",
   "version": "3.10.12"
  },
  "orig_nbformat": 4
 },
 "nbformat": 4,
 "nbformat_minor": 2
}
