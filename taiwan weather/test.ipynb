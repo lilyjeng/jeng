{
 "cells": [
  {
   "cell_type": "code",
   "execution_count": 57,
   "metadata": {},
   "outputs": [],
   "source": [
    "import requests\n",
    "def download_data()->dict:\n",
    "    url = 'https://opendata.cwb.gov.tw/fileapi/v1/opendataapi/F-C0032-001?Authorization=rdec-key-123-45678-011121314&format=JSON'\n",
    "\n",
    "    response = requests.get(url)\n",
    "    if response.status_code == 200:\n",
    "        print(\"下載成功\")\n",
    "    return response.json()\n"
   ]
  },
  {
   "cell_type": "code",
   "execution_count": 58,
   "metadata": {},
   "outputs": [],
   "source": [
    "def jsonDict_csvList(json)->list[dict]:\n",
    "    '''\n",
    "    - 傳入josn的資料結構\n",
    "    - 取出需要的資料\n",
    "    - 組合成list[dict]\n",
    "    '''\n",
    "    location = json['cwbopendata']['dataset']['location']\n",
    "    weather_list = []\n",
    "    for item in location:\n",
    "        city_item = {}\n",
    "        city_item['城市'] = item['locationName']\n",
    "        city_item['啟始時間'] = item['weatherElement'][1]['time'][0]['startTime']\n",
    "        city_item['結束時間'] = item['weatherElement'][1]['time'][0]['endTime']\n",
    "        city_item['最高溫度'] = float(item['weatherElement'][1]['time'][0]['parameter']['parameterName'])\n",
    "        city_item['最低溫度'] = float(item['weatherElement'][2]['time'][0]['parameter']['parameterName'])\n",
    "        city_item['感覺'] = item['weatherElement'][3]['time'][0]['parameter']['parameterName']\n",
    "        weather_list.append(city_item)\n",
    "    return weather_list"
   ]
  },
  {
   "cell_type": "code",
   "execution_count": 59,
   "metadata": {},
   "outputs": [],
   "source": [
    "import csv\n",
    "def save_csv(data:list[dict],fileName) -> bool:\n",
    "    '''\n",
    "    - 將list[dict]儲存\n",
    "    - 參數fileName要儲存的檔案名\n",
    "    '''    \n",
    "    with open(fileName,mode='w',encoding='utf-8',newline='') as file:\n",
    "        fieldnames = ['城市', '啟始時間','結束時間','最高溫度','最低溫度','感覺']\n",
    "        writer = csv.DictWriter(file,fieldnames=fieldnames)\n",
    "        writer.writeheader()\n",
    "        writer.writerows(data)\n",
    "    return True"
   ]
  },
  {
   "cell_type": "code",
   "execution_count": 60,
   "metadata": {},
   "outputs": [
    {
     "name": "stdout",
     "output_type": "stream",
     "text": [
      "下載成功\n"
     ]
    },
    {
     "data": {
      "text/plain": [
       "True"
      ]
     },
     "execution_count": 60,
     "metadata": {},
     "output_type": "execute_result"
    }
   ],
   "source": [
    "json_data = download_data() #下載資料\n",
    "csv_list = jsonDict_csvList(json_data) #解析json的資料成為csv的結構\n",
    "save_csv(csv_list,\"今天天氣.csv\") #儲存資料 "
   ]
  },
  {
   "cell_type": "code",
   "execution_count": 61,
   "metadata": {},
   "outputs": [],
   "source": [
    "from datetime import datetime\n",
    "import pytz\n",
    "def get_csvName()->str:\n",
    "    '''\n",
    "    - 取得台灣目前year-month-day.csv\n",
    "    '''\n",
    "    taiwan_timezone = pytz.timezone('Asia/Taipei')\n",
    "    current_date = datetime.now(taiwan_timezone)    \n",
    "    fileName = f\"{current_date.year}-{current_date.month}-{current_date.day}.csv\"\n",
    "    return fileName"
   ]
  },
  {
   "cell_type": "code",
   "execution_count": 62,
   "metadata": {},
   "outputs": [
    {
     "data": {
      "text/plain": [
       "True"
      ]
     },
     "execution_count": 62,
     "metadata": {},
     "output_type": "execute_result"
    }
   ],
   "source": [
    "import os\n",
    "def  get_fileName_path()->str:\n",
    "    csvFileName = get_csvName()\n",
    "    current_cwd = os.path.abspath(os.getcwd())\n",
    "    abs_file_path = os.path.join(current_cwd,'data',csvFileName)\n",
    "    return abs_file_path\n",
    "\n",
    "\n",
    "def check_file_exist()->bool:\n",
    "    abs_file_path = get_fileName_path()    \n",
    "    if os.path.exists(abs_file_path):\n",
    "        return True\n",
    "    else:\n",
    "        return False\n",
    "\n",
    "check_file_exist()"
   ]
  },
  {
   "cell_type": "code",
   "execution_count": 63,
   "metadata": {},
   "outputs": [],
   "source": [
    "if not check_file_exist():\n",
    "    print(\"不存在\")\n",
    "    json_data = download_data()\n",
    "    csv_list = jsonDict_csvList(json_data)\n",
    "    is_save = save_csv(csv_list,get_fileName_path())\n",
    "    if is_save:\n",
    "        print(\"存檔成功\")  \n",
    "    \n",
    "    "
   ]
  }
 ],
 "metadata": {
  "kernelspec": {
   "display_name": "Python 3",
   "language": "python",
   "name": "python3"
  },
  "language_info": {
   "codemirror_mode": {
    "name": "ipython",
    "version": 3
   },
   "file_extension": ".py",
   "mimetype": "text/x-python",
   "name": "python",
   "nbconvert_exporter": "python",
   "pygments_lexer": "ipython3",
   "version": "3.10.12"
  },
  "orig_nbformat": 4
 },
 "nbformat": 4,
 "nbformat_minor": 2
}
